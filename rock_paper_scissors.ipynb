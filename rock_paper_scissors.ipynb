{
 "cells": [
  {
   "cell_type": "code",
   "execution_count": 1,
   "id": "5a642b77",
   "metadata": {},
   "outputs": [],
   "source": [
    "import random"
   ]
  },
  {
   "cell_type": "code",
   "execution_count": 2,
   "id": "e15689ad",
   "metadata": {},
   "outputs": [],
   "source": [
    "player_wins = 0\n",
    "computer_wins = 0\n",
    "draw = 0\n",
    "options = [\"rock\", \"paper\", \"scissors\"]"
   ]
  },
  {
   "cell_type": "markdown",
   "id": "10de621e",
   "metadata": {},
   "source": [
    "# Lets Play Rock, Paper, Scissors!"
   ]
  },
  {
   "cell_type": "code",
   "execution_count": null,
   "id": "755a1aed",
   "metadata": {},
   "outputs": [],
   "source": [
    "while True:\n",
    "    player_input = input(\"Type Rock/Paper/Scissors or Q to quit: \").lower()\n",
    "    if player_input == \"q\":\n",
    "        break\n",
    "    \n",
    "    if player_input not in [\"rock\", \"paper\", \"scissors\"]:\n",
    "        continue\n",
    "        \n",
    "    random_number = random.randint(0,2)\n",
    "    # rock:0, paper:1, scissors:2\n",
    "    computer_pick = options[random_number]\n",
    "    print(\"I picked\", computer_pick + \".\")\n",
    "    \n",
    "    if player_input == \"rock\" and computer_pick == \"scissors\":\n",
    "        print(\"Way to go! You win!\")\n",
    "        player_wins += 1\n",
    "        continue\n",
    "    \n",
    "    if player_input == \"paper\" and computer_pick == \"rock\":\n",
    "        print(\"Right on! You win!\")\n",
    "        player_wins += 1\n",
    "        continue  \n",
    "        \n",
    "    if player_input == \"scissors\" and computer_pick == \"paper\":\n",
    "        print(\"Alright, alright, alright! You win!\")\n",
    "        player_wins += 1\n",
    "        continue  \n",
    "    \n",
    "    if player_input == computer_pick:\n",
    "        print(\"Draw!\")\n",
    "        draw += 1\n",
    "        continue\n",
    "        \n",
    "    else:\n",
    "        print(\"You lost!\")\n",
    "        computer_wins += 1\n",
    "        \n",
    "print(\"You won\", player_wins, \"times.\")\n",
    "print(\"I won\", computer_wins, \"times.\")    \n",
    "print(\"See-ya!\")"
   ]
  }
 ],
 "metadata": {
  "kernelspec": {
   "display_name": "Python 3 (ipykernel)",
   "language": "python",
   "name": "python3"
  },
  "language_info": {
   "codemirror_mode": {
    "name": "ipython",
    "version": 3
   },
   "file_extension": ".py",
   "mimetype": "text/x-python",
   "name": "python",
   "nbconvert_exporter": "python",
   "pygments_lexer": "ipython3",
   "version": "3.9.12"
  }
 },
 "nbformat": 4,
 "nbformat_minor": 5
}
