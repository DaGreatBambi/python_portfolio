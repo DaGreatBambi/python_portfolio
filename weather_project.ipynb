{
 "cells": [
  {
   "cell_type": "code",
   "execution_count": 1,
   "id": "81820773",
   "metadata": {},
   "outputs": [],
   "source": [
    "import requests"
   ]
  },
  {
   "cell_type": "code",
   "execution_count": 2,
   "id": "dee17371",
   "metadata": {},
   "outputs": [],
   "source": [
    "API_KEY = \"b82ac028785890c214ffbf0ee6af567a\""
   ]
  },
  {
   "cell_type": "code",
   "execution_count": 3,
   "id": "f2703b75",
   "metadata": {},
   "outputs": [],
   "source": [
    "BASE_URL = \"https://api.openweathermap.org/data/2.5/weather\""
   ]
  },
  {
   "cell_type": "markdown",
   "id": "c022a3d5",
   "metadata": {},
   "source": [
    "# Wanna know the weather?"
   ]
  },
  {
   "cell_type": "code",
   "execution_count": null,
   "id": "9c6ea545",
   "metadata": {},
   "outputs": [],
   "source": [
    "city = input(\"Enter a city name: \")\n",
    "request_url = f\"{BASE_URL}?appid={API_KEY}&q={city}\"\n",
    "response = requests.get(request_url)\n",
    "\n",
    "if response.status_code == 200:\n",
    "    data = response.json()\n",
    "    weather = data[\"weather\"][0][\"description\"]\n",
    "    temperature = round(data[\"main\"][\"temp\"] -273.15,2)\n",
    "    print(\"Weather:\", weather)\n",
    "    print(\"Temperature:\", temperature, \"Celsius\")\n",
    "else:\n",
    "    print(\"An error occurred.\")"
   ]
  }
 ],
 "metadata": {
  "kernelspec": {
   "display_name": "Python 3 (ipykernel)",
   "language": "python",
   "name": "python3"
  },
  "language_info": {
   "codemirror_mode": {
    "name": "ipython",
    "version": 3
   },
   "file_extension": ".py",
   "mimetype": "text/x-python",
   "name": "python",
   "nbconvert_exporter": "python",
   "pygments_lexer": "ipython3",
   "version": "3.9.12"
  }
 },
 "nbformat": 4,
 "nbformat_minor": 5
}
