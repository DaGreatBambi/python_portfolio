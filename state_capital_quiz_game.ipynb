{
 "cells": [
  {
   "cell_type": "markdown",
   "id": "b39eca59",
   "metadata": {},
   "source": [
    "# Do you know your state capitals? "
   ]
  },
  {
   "cell_type": "code",
   "execution_count": 1,
   "id": "e5f12536",
   "metadata": {},
   "outputs": [
    {
     "name": "stdout",
     "output_type": "stream",
     "text": [
      "Welcome to the state capitals quiz! There are 11 questions.\n"
     ]
    }
   ],
   "source": [
    "print(\"Welcome to the state capitals quiz! There are 11 questions.\")"
   ]
  },
  {
   "cell_type": "code",
   "execution_count": null,
   "id": "eda4f5f2",
   "metadata": {},
   "outputs": [],
   "source": [
    "playing = input(\"Do you want to play? \")\n",
    "score = 0\n",
    "\n",
    "if playing.lower() != \"yes\":\n",
    "    quit()\n",
    "    \n",
    "print(\"Okay! Let's play :)\")\n",
    "\n",
    "answer = input(\"What is the capital of Alaska? \")\n",
    "if answer == \"Juneau\":\n",
    "    print(\"Correct!\")\n",
    "    score += 1\n",
    "else:\n",
    "    print(\"Nope! It's Juneau.\")\n",
    "    \n",
    "answer = input(\"What is the capital of Arizona? \")\n",
    "if answer == \"Phoenix\":\n",
    "    print(\"Correct!\")\n",
    "    score += 1\n",
    "else:\n",
    "    print(\"Nope! It's Phoenix.\")\n",
    "    \n",
    "answer = input(\"What is the capital of Arkansas? \")\n",
    "if answer == \"Little Rock\":\n",
    "    print(\"Correct!\")\n",
    "    score += 1\n",
    "else:\n",
    "    print(\"Nope! It's Little Rock.\")\n",
    "    \n",
    "answer = input(\"What is the capital of California? \")\n",
    "if answer == \"Sacramento\":\n",
    "    print(\"Correct!\")\n",
    "    score += 1\n",
    "else:\n",
    "    print(\"Nope! It's Sacramento.\")\n",
    "    \n",
    "answer = input(\"What is the capital of Florida? \")\n",
    "if answer == \"Tallahassee\":\n",
    "    print(\"Correct!\")\n",
    "    score += 1\n",
    "else:\n",
    "    print(\"Nope! It's Tallahassee.\")\n",
    "    \n",
    "answer = input(\"What is the capital of Hawai'i? \")\n",
    "if answer == \"Honolulu\":\n",
    "    print(\"Correct!\")\n",
    "    score += 1\n",
    "else:\n",
    "    print(\"Nope! It's Honolulu.\")\n",
    "    \n",
    "answer = input(\"What is the capital of Alabama? \")\n",
    "if answer == \"Montgomery\":\n",
    "    print(\"Correct!\")\n",
    "    score += 1\n",
    "else:\n",
    "    print(\"Nope! It's Montgomery.\")\n",
    "    \n",
    "answer = input(\"What is the capital of Colorado? \")\n",
    "if answer == \"Denver\":\n",
    "    print(\"Correct!\")\n",
    "    score += 1\n",
    "else:\n",
    "    print(\"Nope! It's Denver.\")\n",
    "    \n",
    "answer = input(\"What is the capital of Connecticut? \")\n",
    "if answer == \"Hartford\":\n",
    "    print(\"Correct!\")\n",
    "    score += 1\n",
    "else:\n",
    "    print(\"Nope! It's Hartford.\")\n",
    "    \n",
    "answer = input(\"What is the capital of Delaware? \")\n",
    "if answer == \"Dover\":\n",
    "    print(\"Correct!\")\n",
    "    score += 1\n",
    "else:\n",
    "    print(\"Nope! It's Dover.\")\n",
    "    \n",
    "answer = input(\"What is the capital of Georgia? \")\n",
    "if answer == \"Atlanta\":\n",
    "    print(\"Correct!\")\n",
    "    score += 1\n",
    "else:\n",
    "    print(\"Nope! It's Atlanta.\")\n",
    "    \n",
    "print(\"You got \"+ str(score)+ \" questions correct!\")"
   ]
  }
 ],
 "metadata": {
  "kernelspec": {
   "display_name": "Python 3 (ipykernel)",
   "language": "python",
   "name": "python3"
  },
  "language_info": {
   "codemirror_mode": {
    "name": "ipython",
    "version": 3
   },
   "file_extension": ".py",
   "mimetype": "text/x-python",
   "name": "python",
   "nbconvert_exporter": "python",
   "pygments_lexer": "ipython3",
   "version": "3.9.12"
  }
 },
 "nbformat": 4,
 "nbformat_minor": 5
}
