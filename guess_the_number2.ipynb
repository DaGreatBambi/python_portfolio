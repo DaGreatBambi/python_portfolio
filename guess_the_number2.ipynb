{
 "cells": [
  {
   "cell_type": "code",
   "execution_count": 2,
   "id": "79c78d40",
   "metadata": {},
   "outputs": [],
   "source": [
    "import random"
   ]
  },
  {
   "cell_type": "markdown",
   "id": "173652f7",
   "metadata": {},
   "source": [
    "# Can you guess what I'm thinking?"
   ]
  },
  {
   "cell_type": "code",
   "execution_count": null,
   "id": "de9aee00",
   "metadata": {},
   "outputs": [],
   "source": [
    "top_of_range = input(\"Let's play a game! Type a number: \")\n",
    "\n",
    "if top_of_range.isdigit():\n",
    "    top_of_range = int(top_of_range)\n",
    "    \n",
    "    if top_of_range <= 0:\n",
    "        print(\"Please type a number larger than 0 next time.\")\n",
    "        quit()\n",
    "        \n",
    "else:\n",
    "    print(\"Please type a number next time.\")\n",
    "    quit()\n",
    "    \n",
    "random_number = random.randint(0, top_of_range)\n",
    "guesses = 0\n",
    "\n",
    "while True:\n",
    "    guesses += 1\n",
    "    player_guess = input(\"What number am I thinking of? \")\n",
    "    if player_guess.isdigit():\n",
    "        player_guess = int(player_guess)\n",
    "    \n",
    "        if top_of_range <= 0:\n",
    "            print(\"Please type a number larger than 0 next time.\")\n",
    "            quit()\n",
    "        \n",
    "    else:\n",
    "        print(\"Please type a number next time.\")\n",
    "        continue\n",
    "        \n",
    "    if player_guess == random_number:\n",
    "        print(\"You got it, dude!\")\n",
    "        break\n",
    "    elif player_guess > random_number:\n",
    "        print(\"Whoa! A bit high, eh?.\")\n",
    "    else:\n",
    "        print(\"Not high enough!\")\n",
    "\n",
    "\n",
    "if guesses == 1:\n",
    "    print(\"Hey now, are you psychic? You got it on your first try!\")\n",
    "else:\n",
    "    print(\"You got it in\", guesses, \"tries!\")"
   ]
  }
 ],
 "metadata": {
  "kernelspec": {
   "display_name": "Python 3 (ipykernel)",
   "language": "python",
   "name": "python3"
  },
  "language_info": {
   "codemirror_mode": {
    "name": "ipython",
    "version": 3
   },
   "file_extension": ".py",
   "mimetype": "text/x-python",
   "name": "python",
   "nbconvert_exporter": "python",
   "pygments_lexer": "ipython3",
   "version": "3.9.12"
  }
 },
 "nbformat": 4,
 "nbformat_minor": 5
}
